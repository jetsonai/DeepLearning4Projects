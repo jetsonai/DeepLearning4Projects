{
  "cells": [
    {
      "cell_type": "code",
      "execution_count": null,
      "metadata": {
        "id": "RckW_gcwF8sW"
      },
      "outputs": [],
      "source": [
        "# 구글 드라이브 연결\n",
        "from google.colab import drive\n",
        "\n",
        "drive.mount('/content/gdrive')"
      ]
    },
    {
      "cell_type": "code",
      "execution_count": null,
      "metadata": {
        "id": "TBXtHP-pGsNj"
      },
      "outputs": [],
      "source": [
        "# 구글 드라이브 디렉토리 확인 및 이동\n",
        "!ls /content/gdrive"
      ]
    },
    {
      "cell_type": "code",
      "execution_count": null,
      "metadata": {
        "id": "6mldiw1Jj7f9"
      },
      "outputs": [],
      "source": [
        "ls"
      ]
    },
    {
      "cell_type": "code",
      "execution_count": null,
      "metadata": {
        "id": "gDEYz2qfGn9V"
      },
      "outputs": [],
      "source": [
        "cd /content/gdrive/MyDrive/ssd/"
      ]
    },
    {
      "cell_type": "code",
      "execution_count": null,
      "metadata": {
        "id": "TarPVHJBOnXy"
      },
      "outputs": [],
      "source": [
        "import torch\n",
        "print(torch.__version__)"
      ]
    },
    {
      "cell_type": "code",
      "execution_count": 6,
      "metadata": {
        "id": "kAk8s4nELKJG"
      },
      "outputs": [],
      "source": [
        "# GPU 사용 체크\n",
        "is_cuda = False\n",
        "if torch.cuda.is_available():\n",
        "    is_cuda = True"
      ]
    },
    {
      "cell_type": "code",
      "execution_count": null,
      "metadata": {
        "id": "flRyEWsZjdhc"
      },
      "outputs": [],
      "source": [
        "# 파이토치 SSD 실습 소스 파일들 다운로드\n",
        "!git clone https://github.com/dusty-nv/pytorch-ssd"
      ]
    },
    {
      "cell_type": "code",
      "execution_count": 7,
      "metadata": {
        "id": "4TeM94QYG47t",
        "colab": {
          "base_uri": "https://localhost:8080/"
        },
        "outputId": "1ad22510-57f8-4fd3-fe60-12392b6f21a2"
      },
      "outputs": [
        {
          "output_type": "stream",
          "name": "stdout",
          "text": [
            "/content/gdrive/MyDrive/ssd/pytorch-ssd\n"
          ]
        }
      ],
      "source": [
        "cd pytorch-ssd"
      ]
    },
    {
      "cell_type": "code",
      "execution_count": null,
      "metadata": {
        "colab": {
          "base_uri": "https://localhost:8080/"
        },
        "id": "2E63ajXpkQUW",
        "outputId": "2be1798c-b718-4646-ff0e-07aa820b4c9a"
      },
      "outputs": [
        {
          "name": "stdout",
          "output_type": "stream",
          "text": [
            "\u001b[0m\u001b[01;34mdata\u001b[0m/           open_images_classes.txt    requirements.txt    \u001b[01;34mvision\u001b[0m/\n",
            "\u001b[01;34mmodels\u001b[0m/         open_images_downloader.py  run_ssd_example.py\n",
            "onnx_export.py  README.md                  train_ssd.py\n"
          ]
        }
      ],
      "source": [
        "ls"
      ]
    },
    {
      "cell_type": "code",
      "execution_count": null,
      "metadata": {
        "id": "cgnARS23HGOO"
      },
      "outputs": [],
      "source": [
        "# 파이토치 SSD MobileNetV1 미리 학습된 모델 파일 다운로드\n",
        "!wget https://nvidia.box.com/shared/static/djf5w54rjvpqocsiztzaandq1m3avr7c.pth -O models/mobilenet-v1-ssd-mp-0_675.pth"
      ]
    },
    {
      "cell_type": "code",
      "execution_count": null,
      "metadata": {
        "id": "vso4oLvlHHpN"
      },
      "outputs": [],
      "source": [
        "# 필수 패키지 설치\n",
        "!pip3 install -v -r requirements.txt"
      ]
    },
    {
      "cell_type": "code",
      "execution_count": null,
      "metadata": {
        "id": "CW5zWzNSHOSF"
      },
      "outputs": [],
      "source": [
        "# CCTV에서 감시하고자 하는 대상인 사람, 차, 버스 데이터를 다운로드\n",
        "!python3 open_images_downloader.py --class-names \"Person, Car, Bus\" --data=data/cctv --max-images=4500 --num-workers=2"
      ]
    },
    {
      "cell_type": "code",
      "execution_count": null,
      "metadata": {
        "id": "NOzlCMkVC6Ih"
      },
      "outputs": [],
      "source": [
        "# 파이토치 SSD MobileNetV1 학습\n",
        "!python3 train_ssd.py --data=data/cctv --model-dir=models/cctv --batch-size=16 --epochs=35"
      ]
    },
    {
      "cell_type": "markdown",
      "metadata": {
        "id": "20sJsqxQC59B"
      },
      "source": [
        ""
      ]
    }
  ],
  "metadata": {
    "accelerator": "GPU",
    "colab": {
      "collapsed_sections": [],
      "name": "Pytorch_SSD_Training.ipynb",
      "provenance": []
    },
    "kernelspec": {
      "display_name": "Python 3",
      "name": "python3"
    },
    "language_info": {
      "name": "python"
    }
  },
  "nbformat": 4,
  "nbformat_minor": 0
}
