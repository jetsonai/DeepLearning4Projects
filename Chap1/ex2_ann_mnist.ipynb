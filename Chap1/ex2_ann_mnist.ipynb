{
  "cells": [
    {
      "cell_type": "code",
      "execution_count": null,
      "metadata": {
        "id": "TgM_jD5s0aVQ"
      },
      "outputs": [],
      "source": [
        "# 패키지 임포트\n",
        "\n",
        "import numpy as np\n",
        "import torch\n",
        "import torch.nn.functional as F\n",
        "import torch.nn as nn\n",
        "from torchvision import datasets, transforms\n",
        "from tqdm.notebook import tqdm"
      ]
    },
    {
      "cell_type": "code",
      "execution_count": null,
      "metadata": {
        "id": "eZnVHXeJx4TR"
      },
      "outputs": [],
      "source": [
        "# mnist 데이터 다운로드\n",
        "\n",
        "mnist_train = datasets.MNIST(root=\"./datasets\", train=True, transform=transforms.ToTensor(), download=True)\n",
        "mnist_test = datasets.MNIST(root=\"./datasets\", train=False, transform=transforms.ToTensor(), download=True)\n",
        "train_loader = torch.utils.data.DataLoader(mnist_train, batch_size=100, shuffle=True)\n",
        "test_loader = torch.utils.data.DataLoader(mnist_test, batch_size=100, shuffle=False)"
      ]
    },
    {
      "cell_type": "code",
      "execution_count": null,
      "metadata": {
        "id": "T8-ZqumAxsEC"
      },
      "outputs": [],
      "source": [
        "# 네트워크 정의\n",
        "\n",
        "input_size = 784\n",
        "hidden_sizes = [128, 64]\n",
        "output_size = 10\n",
        "\n",
        "# nn.Sequential을 통해 입력부터 출력까지 순차적으로 네트워크 구조를 정의\n",
        "# nn.Linear는 선형 곱 레이어\n",
        "# nn.ReLU는 ReLU 활성화 레이어\n",
        "# nn.LogSoftmax는 Softmax 활성화 레이어어\n",
        "model = nn.Sequential(nn.Linear(input_size, hidden_sizes[0]),\n",
        "                      nn.ReLU(),\n",
        "                      nn.Linear(hidden_sizes[0], hidden_sizes[1]),\n",
        "                      nn.ReLU(),\n",
        "                      nn.Linear(hidden_sizes[1], output_size),\n",
        "                      nn.LogSoftmax(dim=1))"
      ]
    },
    {
      "cell_type": "code",
      "execution_count": null,
      "metadata": {
        "id": "4xjurwXYyFQK"
      },
      "outputs": [],
      "source": [
        "# 손실함수 정의\n",
        "criterion = nn.CrossEntropyLoss()\n",
        "\n",
        "# 최적화 알고리즘 정의\n",
        "# SGD는 Stochastic Gradient Descent를 의미미\n",
        "optimizer = torch.optim.SGD(model.parameters(), lr=0.09)"
      ]
    },
    {
      "cell_type": "code",
      "execution_count": null,
      "metadata": {
        "id": "KX8pj-zgtWEa"
      },
      "outputs": [],
      "source": [
        "# 훈련\n",
        "epochs = 15\n",
        "for e in range(epochs):\n",
        "    running_loss = 0\n",
        "    for images, labels in train_loader:\n",
        "        images = images.view(images.shape[0], -1)\n",
        "\n",
        "        #기울기 값값 초기화\n",
        "        optimizer.zero_grad()\n",
        "        \n",
        "        #모델 계산\n",
        "        output = model(images)\n",
        "\n",
        "        #손실 계산\n",
        "        loss = criterion(output, labels)\n",
        "        \n",
        "        #역전파\n",
        "        loss.backward()\n",
        "        \n",
        "        #최적화\n",
        "        optimizer.step()\n",
        "        \n",
        "        running_loss += loss.item()\n",
        "    else:\n",
        "        print(\"Epoch {} - Training loss: {}\".format(e, running_loss/len(train_loader)))\n"
      ]
    },
    {
      "cell_type": "code",
      "execution_count": null,
      "metadata": {
        "id": "QrWEqvh30m4W"
      },
      "outputs": [],
      "source": [
        "# 테스트\n",
        "correct = 0\n",
        "total = len(mnist_test)\n",
        "with torch.no_grad():\n",
        "    # Iterate through test set minibatchs \n",
        "    for images, labels in tqdm(test_loader):\n",
        "        # Forward pass\n",
        "        #x = images.view(-1, 28*28)\n",
        "        x = images.view(images.shape[0], -1)\n",
        "        y = model(x)\n",
        "        \n",
        "        predictions = torch.argmax(y, dim=1)\n",
        "        correct += torch.sum((predictions == labels).float())\n",
        "    \n",
        "print('Test accuracy: {}'.format(correct/total))\n"
      ]
    }
  ],
  "metadata": {
    "accelerator": "GPU",
    "colab": {
      "collapsed_sections": [],
      "name": "Chap1_ANN_MNIST.ipynb",
      "provenance": []
    },
    "kernelspec": {
      "display_name": "Python 3",
      "name": "python3"
    },
    "language_info": {
      "name": "python"
    }
  },
  "nbformat": 4,
  "nbformat_minor": 0
}
