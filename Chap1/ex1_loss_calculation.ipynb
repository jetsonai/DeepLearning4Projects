{
  "cells": [
    {
      "cell_type": "markdown",
      "metadata": {
        "id": "F25iWiH242EM"
      },
      "source": [
        "코드 1.1. 평균 제곱 오차 계산"
      ]
    },
    {
      "cell_type": "code",
      "execution_count": null,
      "metadata": {
        "id": "jrBdozFK4Bal"
      },
      "outputs": [],
      "source": [
        "import numpy as np\n",
        "# mse_function 함수\n",
        "def mse_function(y, t):\n",
        "    return np.mean((y - t) ** 2)\n",
        "\n",
        "# 정답 데이터\n",
        "t = [0,0,0,1,0,0,0,0,0,0]\n",
        "\n",
        "# 모델 출력 값의 예 2개 y1, y2\n",
        "y1 = [0.01, 0.03, 0.1, 0.8, 0.1, 0.1, 0.02, 0.1, 0.0, 0.01]\n",
        "y2 = [0.01, 0.03, 0.1, 0.07, 0.1, 0.1, 0.02, 0.1, 0.8, 0.01]"
      ]
    },
    {
      "cell_type": "code",
      "execution_count": null,
      "metadata": {
        "id": "c9PJ-pAaSiT5"
      },
      "outputs": [],
      "source": [
        "import matplotlib.pyplot as plt\n",
        "\n",
        "array = np.arange(0, 1, 0.1)\n",
        "\n",
        "plt.plot(array, t, c='r', linestyle='--', linewidth=2, alpha=0.8)\n",
        "plt.plot(array, y2, c='g', linestyle='--', linewidth=2, alpha=0.8)\n",
        "plt.plot(array, y1, c='b', linestyle='--', linewidth=2, alpha=0.8)\n",
        "\n",
        "plt.show()"
      ]
    },
    {
      "cell_type": "code",
      "execution_count": null,
      "metadata": {
        "id": "XK7ygwXE4Jz8"
      },
      "outputs": [],
      "source": [
        "# y1의 경우 평균 제곱 오차 계산결과 출력\n",
        "mse1 = mse_function(np.array(y1), np.array(t))\n",
        "print(mse1)"
      ]
    },
    {
      "cell_type": "code",
      "execution_count": null,
      "metadata": {
        "id": "bsvQQX8f4M0S"
      },
      "outputs": [],
      "source": [
        "# y2의 경우 평균 제곱 오차 계산결과 출력\n",
        "mse2 = mse_function(np.array(y2), np.array(t))\n",
        "print(mse2)"
      ]
    },
    {
      "cell_type": "code",
      "execution_count": null,
      "metadata": {
        "id": "smiKQKzfaWJi"
      },
      "outputs": [],
      "source": [
        "import numpy as np\n",
        "# mse_function 함수\n",
        "def mse_function(y, t):\n",
        "    return np.mean((y - t) ** 2)\n",
        "\n",
        "# 정답 데이터\n",
        "t = [0,0,0,1,0,0,0,0,0,0]\n",
        "\n",
        "# 모델 출력 값의 예 2개 y1, y2\n",
        "y1 = [0.01, 0.03, 0.1, 0.8, 0.1, 0.1, 0.02, 0.1, 0.0, 0.01]\n",
        "y2 = [0.01, 0.03, 0.1, 0.07, 0.1, 0.1, 0.02, 0.1, 0.8, 0.01]"
      ]
    },
    {
      "cell_type": "code",
      "execution_count": null,
      "metadata": {
        "id": "lfkuodpZaW0p"
      },
      "outputs": [],
      "source": [
        "# y1의 경우 평균 제곱 오차 계산결과 출력\n",
        "mse1 = mse_function(np.array(y1), np.array(t))\n",
        "print(mse1)"
      ]
    },
    {
      "cell_type": "code",
      "execution_count": null,
      "metadata": {
        "id": "U4PdYkkTaZrY"
      },
      "outputs": [],
      "source": [
        "# y2의 경우 평균 제곱 오차 계산결과 출력\n",
        "mse2 = mse_function(np.array(y2), np.array(t))\n",
        "print(mse2)"
      ]
    },
    {
      "cell_type": "markdown",
      "metadata": {
        "id": "8rhDNwQn49b7"
      },
      "source": [
        "코드 1.2. 크로스 엔트로피 오차 계산"
      ]
    },
    {
      "cell_type": "code",
      "execution_count": null,
      "metadata": {
        "id": "c3L6vCpK5EGs"
      },
      "outputs": [],
      "source": [
        "#  cee_function 함수\n",
        "def cee_function(y, t):\n",
        "    delta = 1e-7\n",
        "    return -np.sum(t * np.log(y + delta))\n",
        "\n",
        "#  정답 데이터\n",
        "t = [0,0,0,1,0,0,0,0,0,0]\n",
        "\n",
        "# 모델 출력 값의 예 2개 y1, y2\n",
        "y1 = [0.01, 0.03, 0.1, 0.8, 0.1, 0.1, 0.02, 0.1, 0.0, 0.01]\n",
        "y2 = [0.01, 0.03, 0.1, 0.07, 0.1, 0.1, 0.02, 0.1, 0.8, 0.01]"
      ]
    },
    {
      "cell_type": "code",
      "execution_count": null,
      "metadata": {
        "id": "ZDEbfKJ85JKj"
      },
      "outputs": [],
      "source": [
        "#  y1의 경우 교차 엔트로피 오차 계산결과 출력\n",
        "see1 = cee_function(np.array(y1), np.array(t))\n",
        "print(see1)"
      ]
    },
    {
      "cell_type": "code",
      "execution_count": null,
      "metadata": {
        "id": "Zjyw0kyS5OR7"
      },
      "outputs": [],
      "source": [
        "#  y2의 경우 교차 엔트로피 오차 계산결과 출력\n",
        "see2 = cee_function(np.array(y2), np.array(t))\n",
        "print(see2)"
      ]
    }
  ],
  "metadata": {
    "colab": {
      "provenance": []
    },
    "kernelspec": {
      "display_name": "Python 3",
      "name": "python3"
    },
    "language_info": {
      "name": "python"
    }
  },
  "nbformat": 4,
  "nbformat_minor": 0
}
