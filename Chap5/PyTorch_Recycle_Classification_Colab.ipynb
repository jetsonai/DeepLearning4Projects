{
  "cells": [
    {
      "cell_type": "markdown",
      "metadata": {
        "id": "kESNVsD5w93-"
      },
      "source": [
        "우선 훈련을 위한 깃헙 저장소를 다운로드합니다."
      ]
    },
    {
      "cell_type": "code",
      "execution_count": null,
      "metadata": {
        "id": "4I97OkyPxB7x"
      },
      "outputs": [],
      "source": [
        "print(\"Download Example Repository\")\n",
        "!wget https://raw.githubusercontent.com/jetsonai/DeepLearning4Projects/refs/heads/main/Chap5/__init__.py\n",
        "!wget https://raw.githubusercontent.com/jetsonai/DeepLearning4Projects/refs/heads/main/Chap5/Training_Class.py\n",
        "!wget https://raw.githubusercontent.com/jetsonai/DeepLearning4Projects/refs/heads/main/Chap5/Dataset_Class.py\n",
        "!wget https://raw.githubusercontent.com/jetsonai/DeepLearning4Projects/refs/heads/main/Chap5/Model_Class_From_the_Scratch.py\n",
        "!wget https://raw.githubusercontent.com/jetsonai/DeepLearning4Projects/refs/heads/main/Chap5/Model_Class_Transfer_Learning_MobileNet.py"
      ]
    },
    {
      "cell_type": "markdown",
      "metadata": {
        "id": "sHJ7DZs4w47x"
      },
      "source": [
        "그 후 데이터셋을 다운로드합니다.\n",
        "\n",
        "다운로드에 약 7분 정도의 시간이 필요합니다."
      ]
    },
    {
      "cell_type": "code",
      "execution_count": null,
      "metadata": {
        "id": "PcYCWnHmcGZ7"
      },
      "outputs": [],
      "source": [
        "print(\"Download Dataset\")\n",
        "!git clone https://github.com/jetsonai/Recycle_Classification_Dataset.git\n",
        "!rm -rf ./Recycle_Classification_Dataset/.git"
      ]
    },
    {
      "cell_type": "markdown",
      "metadata": {
        "id": "eXfcVj3vxRJS"
      },
      "source": [
        "훈련을 위한 클래스를 불러옵니다."
      ]
    },
    {
      "cell_type": "code",
      "execution_count": 7,
      "metadata": {
        "id": "AhzX5PIvslVo"
      },
      "outputs": [],
      "source": [
        "from Training_Class import PyTorch_Classification_Training_Class\n",
        "training_class = PyTorch_Classification_Training_Class()"
      ]
    },
    {
      "cell_type": "markdown",
      "metadata": {
        "id": "WcBjqSiuxUta"
      },
      "source": [
        "우선 임의 제작한 네트워크 구조를 활용하여 처음부터 훈련합니다.\n",
        "네트워크 구조는 Model_Class_From_the_Scratch.py 파일을 통해 확인할 수 있습니다."
      ]
    },
    {
      "cell_type": "code",
      "execution_count": null,
      "metadata": {
        "id": "2bIvDJJIuL7_"
      },
      "outputs": [],
      "source": [
        "print(\"Learning from scratch\")\n",
        "training_class.prepare_network(True)\n",
        "training_class.training_network(learning_rate = 0.0001, epochs=10, step_size=3, gamma=0.3)"
      ]
    },
    {
      "cell_type": "markdown",
      "metadata": {
        "id": "X8cD2Hr2xk_c"
      },
      "source": [
        "다음은 ImageNet의 천 개 클래스의 백만 장 이미지로 학습한 MobileNetv2 네트워크를 전이학습합니다.\n",
        "MobileNetv2 네트워크의 마지막 레이어의 출력 노드 수를 우리가 구분하고자 하는 클래스 수에 맞게 수정한 후 학습하며, 코드는 Model_Class_Transfer_Learning_MobileNet.py에서 확인할 수 있습니다."
      ]
    },
    {
      "cell_type": "code",
      "execution_count": null,
      "metadata": {
        "id": "9HcSYrRhwJUp"
      },
      "outputs": [],
      "source": [
        "print(\"Transfer learning\")\n",
        "training_class.prepare_network(False)\n",
        "training_class.training_network(learning_rate = 0.00001, epochs=5, step_size=3, gamma=0.3)"
      ]
    },
    {
      "cell_type": "markdown",
      "metadata": {
        "id": "yLBv36tWx9z0"
      },
      "source": [
        "모든 학습이 끝나면 label_map.txt와 PyTorch_Training_From_Scratch.pt, PyTorch_Transfer_Learning_MobileNet.pt 파일을 다운로드합니다.\n",
        "\n",
        "이후 Jetson 보드에서 해당 파일로 추론을 수행할 수 있습니다."
      ]
    }
  ],
  "metadata": {
    "accelerator": "GPU",
    "colab": {
      "collapsed_sections": [],
      "name": "PyTorch_Recycle_Classification_Colab.ipynb",
      "provenance": []
    },
    "kernelspec": {
      "display_name": "Python 3",
      "name": "python3"
    }
  },
  "nbformat": 4,
  "nbformat_minor": 0
}
