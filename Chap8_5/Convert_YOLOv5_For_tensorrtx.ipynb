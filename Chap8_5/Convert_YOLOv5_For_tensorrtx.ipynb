{
  "cells": [
    {
      "cell_type": "markdown",
      "metadata": {
        "id": "PX-5JGv7P78L"
      },
      "source": [
        "이 notebook에서는 Jetson Nano에서 TensorRT를 이용하여 YOLOv5 모델을 추론하기 위한 파일 변환을 수행합니다."
      ]
    },
    {
      "cell_type": "markdown",
      "metadata": {
        "id": "XU8yjqTDN3Bo"
      },
      "source": [
        "YOLOv5와 tensorrtx, DeepLearning4Projects 저장소를 받아옵니다."
      ]
    },
    {
      "cell_type": "code",
      "execution_count": null,
      "metadata": {
        "id": "hQFAU2dZNmPZ"
      },
      "outputs": [],
      "source": [
        "!git clone https://github.com/jetsonai/yolov5\n",
        "!git clone -b yolov5-v7.1 https://github.com/jetsonai/tensorrtx\n",
        "!git clone https://github.com/jetsonai/DeepLearning4Projects"
      ]
    },
    {
      "cell_type": "markdown",
      "metadata": {
        "id": "DH9vuEODOKkQ"
      },
      "source": [
        "YOLOv5 실행 환경을 준비합니다."
      ]
    },
    {
      "cell_type": "code",
      "execution_count": null,
      "metadata": {
        "id": "_407hmAQNulk"
      },
      "outputs": [],
      "source": [
        "!pip install -r yolov5/requirements.txt"
      ]
    },
    {
      "cell_type": "markdown",
      "metadata": {
        "id": "3hV6ykExOq2e"
      },
      "source": [
        "변환에 필요한 파일을 복사합니다."
      ]
    },
    {
      "cell_type": "code",
      "execution_count": null,
      "metadata": {
        "id": "kv_pQugzOBja"
      },
      "outputs": [],
      "source": [
        "!cp /content/DeepLearning4Projects/Chap8_5/weights/yolov5s_voc.pt /content/yolov5/yolov5s_voc.pt\n",
        "!cp /content/tensorrtx/yolov5/gen_wts.py /content/yolov5/."
      ]
    },
    {
      "cell_type": "markdown",
      "metadata": {
        "id": "M4dkiz0XPSZK"
      },
      "source": [
        "변환을 수행합니다."
      ]
    },
    {
      "cell_type": "code",
      "execution_count": null,
      "metadata": {
        "id": "isnV4WZIPF1D"
      },
      "outputs": [],
      "source": [
        "!cd /content/yolov5/ && python gen_wts.py -w yolov5s_voc.pt -o yolov5s_voc.wts"
      ]
    },
    {
      "cell_type": "markdown",
      "metadata": {
        "id": "xIrE71ZBPY3X"
      },
      "source": [
        "변환 결과 yolov5s_voc.wts 파일을 다운로드합니다."
      ]
    },
    {
      "cell_type": "code",
      "execution_count": null,
      "metadata": {
        "colab": {
          "base_uri": "https://localhost:8080/",
          "height": 17
        },
        "id": "zhsiiSLDPR7L",
        "outputId": "368b6990-155e-4df8-cecf-6432e400f7e4"
      },
      "outputs": [
        {
          "data": {
            "application/javascript": "\n    async function download(id, filename, size) {\n      if (!google.colab.kernel.accessAllowed) {\n        return;\n      }\n      const div = document.createElement('div');\n      const label = document.createElement('label');\n      label.textContent = `Downloading \"${filename}\": `;\n      div.appendChild(label);\n      const progress = document.createElement('progress');\n      progress.max = size;\n      div.appendChild(progress);\n      document.body.appendChild(div);\n\n      const buffers = [];\n      let downloaded = 0;\n\n      const channel = await google.colab.kernel.comms.open(id);\n      // Send a message to notify the kernel that we're ready.\n      channel.send({})\n\n      for await (const message of channel.messages) {\n        // Send a message to notify the kernel that we're ready.\n        channel.send({})\n        if (message.buffers) {\n          for (const buffer of message.buffers) {\n            buffers.push(buffer);\n            downloaded += buffer.byteLength;\n            progress.value = downloaded;\n          }\n        }\n      }\n      const blob = new Blob(buffers, {type: 'application/binary'});\n      const a = document.createElement('a');\n      a.href = window.URL.createObjectURL(blob);\n      a.download = filename;\n      div.appendChild(a);\n      a.click();\n      div.remove();\n    }\n  ",
            "text/plain": [
              "<IPython.core.display.Javascript object>"
            ]
          },
          "metadata": {},
          "output_type": "display_data"
        },
        {
          "data": {
            "application/javascript": "download(\"download_bc4c0894-5bb6-45f1-9e73-2eae45a45f9d\", \"yolov5s_voc.wts\", 63845273)",
            "text/plain": [
              "<IPython.core.display.Javascript object>"
            ]
          },
          "metadata": {},
          "output_type": "display_data"
        }
      ],
      "source": [
        "from google.colab import files\n",
        "files.download(\"/content/yolov5/yolov5s_voc.wts\")"
      ]
    },
    {
      "cell_type": "code",
      "execution_count": null,
      "metadata": {
        "id": "mp17i84QPvbv"
      },
      "outputs": [],
      "source": []
    }
  ],
  "metadata": {
    "accelerator": "GPU",
    "colab": {
      "gpuType": "T4",
      "provenance": []
    },
    "kernelspec": {
      "display_name": "Python 3",
      "name": "python3"
    },
    "language_info": {
      "name": "python"
    }
  },
  "nbformat": 4,
  "nbformat_minor": 0
}
